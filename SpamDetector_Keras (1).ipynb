{
  "cells": [
    {
      "cell_type": "code",
      "execution_count": 131,
      "metadata": {
        "id": "gyfwSqmyTQWD"
      },
      "outputs": [],
      "source": [
        "import pandas as pd\n",
        "import numpy as np\n",
        "import matplotlib.pyplot as plt\n",
        "\n",
        "FILE_NAME= \"spam_or_not_spam.csv\""
      ]
    },
    {
      "cell_type": "markdown",
      "metadata": {
        "id": "QlX-6i7HViP_"
      },
      "source": [
        "# Read Data"
      ]
    },
    {
      "cell_type": "code",
      "execution_count": 132,
      "metadata": {
        "id": "ZwJHMtyVU-2h"
      },
      "outputs": [],
      "source": [
        "data = pd.read_csv(FILE_NAME)"
      ]
    },
    {
      "cell_type": "code",
      "execution_count": 167,
      "metadata": {
        "colab": {
          "base_uri": "https://localhost:8080/",
          "height": 206
        },
        "id": "uckxXQmhVHTo",
        "outputId": "d4d6757d-85bc-4d51-9d27-825a83bff918"
      },
      "outputs": [
        {
          "data": {
            "text/html": [
              "\n",
              "  <div id=\"df-3bdfb19a-ba0b-4fab-8485-5b247d2521bf\" class=\"colab-df-container\">\n",
              "    <div>\n",
              "<style scoped>\n",
              "    .dataframe tbody tr th:only-of-type {\n",
              "        vertical-align: middle;\n",
              "    }\n",
              "\n",
              "    .dataframe tbody tr th {\n",
              "        vertical-align: top;\n",
              "    }\n",
              "\n",
              "    .dataframe thead th {\n",
              "        text-align: right;\n",
              "    }\n",
              "</style>\n",
              "<table border=\"1\" class=\"dataframe\">\n",
              "  <thead>\n",
              "    <tr style=\"text-align: right;\">\n",
              "      <th></th>\n",
              "      <th>email</th>\n",
              "      <th>label</th>\n",
              "    </tr>\n",
              "  </thead>\n",
              "  <tbody>\n",
              "    <tr>\n",
              "      <th>1139</th>\n",
              "      <td>in article eNUMBERtsNUMBERt NUMBERzd NUMBER rd...</td>\n",
              "      <td>0</td>\n",
              "    </tr>\n",
              "    <tr>\n",
              "      <th>1649</th>\n",
              "      <td>dunno about the other tools but spamassassin ...</td>\n",
              "      <td>0</td>\n",
              "    </tr>\n",
              "    <tr>\n",
              "      <th>1222</th>\n",
              "      <td>on wed NUMBER oct NUMBER NUMBER NUMBER NUMBER ...</td>\n",
              "      <td>0</td>\n",
              "    </tr>\n",
              "    <tr>\n",
              "      <th>2731</th>\n",
              "      <td>behind every elite producer is an elite semin...</td>\n",
              "      <td>1</td>\n",
              "    </tr>\n",
              "    <tr>\n",
              "      <th>2475</th>\n",
              "      <td>geege wrote a strange story i know a guy who i...</td>\n",
              "      <td>0</td>\n",
              "    </tr>\n",
              "  </tbody>\n",
              "</table>\n",
              "</div>\n",
              "    <div class=\"colab-df-buttons\">\n",
              "\n",
              "  <div class=\"colab-df-container\">\n",
              "    <button class=\"colab-df-convert\" onclick=\"convertToInteractive('df-3bdfb19a-ba0b-4fab-8485-5b247d2521bf')\"\n",
              "            title=\"Convert this dataframe to an interactive table.\"\n",
              "            style=\"display:none;\">\n",
              "\n",
              "  <svg xmlns=\"http://www.w3.org/2000/svg\" height=\"24px\" viewBox=\"0 -960 960 960\">\n",
              "    <path d=\"M120-120v-720h720v720H120Zm60-500h600v-160H180v160Zm220 220h160v-160H400v160Zm0 220h160v-160H400v160ZM180-400h160v-160H180v160Zm440 0h160v-160H620v160ZM180-180h160v-160H180v160Zm440 0h160v-160H620v160Z\"/>\n",
              "  </svg>\n",
              "    </button>\n",
              "\n",
              "  <style>\n",
              "    .colab-df-container {\n",
              "      display:flex;\n",
              "      gap: 12px;\n",
              "    }\n",
              "\n",
              "    .colab-df-convert {\n",
              "      background-color: #E8F0FE;\n",
              "      border: none;\n",
              "      border-radius: 50%;\n",
              "      cursor: pointer;\n",
              "      display: none;\n",
              "      fill: #1967D2;\n",
              "      height: 32px;\n",
              "      padding: 0 0 0 0;\n",
              "      width: 32px;\n",
              "    }\n",
              "\n",
              "    .colab-df-convert:hover {\n",
              "      background-color: #E2EBFA;\n",
              "      box-shadow: 0px 1px 2px rgba(60, 64, 67, 0.3), 0px 1px 3px 1px rgba(60, 64, 67, 0.15);\n",
              "      fill: #174EA6;\n",
              "    }\n",
              "\n",
              "    .colab-df-buttons div {\n",
              "      margin-bottom: 4px;\n",
              "    }\n",
              "\n",
              "    [theme=dark] .colab-df-convert {\n",
              "      background-color: #3B4455;\n",
              "      fill: #D2E3FC;\n",
              "    }\n",
              "\n",
              "    [theme=dark] .colab-df-convert:hover {\n",
              "      background-color: #434B5C;\n",
              "      box-shadow: 0px 1px 3px 1px rgba(0, 0, 0, 0.15);\n",
              "      filter: drop-shadow(0px 1px 2px rgba(0, 0, 0, 0.3));\n",
              "      fill: #FFFFFF;\n",
              "    }\n",
              "  </style>\n",
              "\n",
              "    <script>\n",
              "      const buttonEl =\n",
              "        document.querySelector('#df-3bdfb19a-ba0b-4fab-8485-5b247d2521bf button.colab-df-convert');\n",
              "      buttonEl.style.display =\n",
              "        google.colab.kernel.accessAllowed ? 'block' : 'none';\n",
              "\n",
              "      async function convertToInteractive(key) {\n",
              "        const element = document.querySelector('#df-3bdfb19a-ba0b-4fab-8485-5b247d2521bf');\n",
              "        const dataTable =\n",
              "          await google.colab.kernel.invokeFunction('convertToInteractive',\n",
              "                                                    [key], {});\n",
              "        if (!dataTable) return;\n",
              "\n",
              "        const docLinkHtml = 'Like what you see? Visit the ' +\n",
              "          '<a target=\"_blank\" href=https://colab.research.google.com/notebooks/data_table.ipynb>data table notebook</a>'\n",
              "          + ' to learn more about interactive tables.';\n",
              "        element.innerHTML = '';\n",
              "        dataTable['output_type'] = 'display_data';\n",
              "        await google.colab.output.renderOutput(dataTable, element);\n",
              "        const docLink = document.createElement('div');\n",
              "        docLink.innerHTML = docLinkHtml;\n",
              "        element.appendChild(docLink);\n",
              "      }\n",
              "    </script>\n",
              "  </div>\n",
              "\n",
              "\n",
              "<div id=\"df-b31e92d9-1c98-4182-a801-558f936ae070\">\n",
              "  <button class=\"colab-df-quickchart\" onclick=\"quickchart('df-b31e92d9-1c98-4182-a801-558f936ae070')\"\n",
              "            title=\"Suggest charts.\"\n",
              "            style=\"display:none;\">\n",
              "\n",
              "<svg xmlns=\"http://www.w3.org/2000/svg\" height=\"24px\"viewBox=\"0 0 24 24\"\n",
              "     width=\"24px\">\n",
              "    <g>\n",
              "        <path d=\"M19 3H5c-1.1 0-2 .9-2 2v14c0 1.1.9 2 2 2h14c1.1 0 2-.9 2-2V5c0-1.1-.9-2-2-2zM9 17H7v-7h2v7zm4 0h-2V7h2v10zm4 0h-2v-4h2v4z\"/>\n",
              "    </g>\n",
              "</svg>\n",
              "  </button>\n",
              "\n",
              "<style>\n",
              "  .colab-df-quickchart {\n",
              "    background-color: #E8F0FE;\n",
              "    border: none;\n",
              "    border-radius: 50%;\n",
              "    cursor: pointer;\n",
              "    display: none;\n",
              "    fill: #1967D2;\n",
              "    height: 32px;\n",
              "    padding: 0 0 0 0;\n",
              "    width: 32px;\n",
              "  }\n",
              "\n",
              "  .colab-df-quickchart:hover {\n",
              "    background-color: #E2EBFA;\n",
              "    box-shadow: 0px 1px 2px rgba(60, 64, 67, 0.3), 0px 1px 3px 1px rgba(60, 64, 67, 0.15);\n",
              "    fill: #174EA6;\n",
              "  }\n",
              "\n",
              "  [theme=dark] .colab-df-quickchart {\n",
              "    background-color: #3B4455;\n",
              "    fill: #D2E3FC;\n",
              "  }\n",
              "\n",
              "  [theme=dark] .colab-df-quickchart:hover {\n",
              "    background-color: #434B5C;\n",
              "    box-shadow: 0px 1px 3px 1px rgba(0, 0, 0, 0.15);\n",
              "    filter: drop-shadow(0px 1px 2px rgba(0, 0, 0, 0.3));\n",
              "    fill: #FFFFFF;\n",
              "  }\n",
              "</style>\n",
              "\n",
              "  <script>\n",
              "    async function quickchart(key) {\n",
              "      const charts = await google.colab.kernel.invokeFunction(\n",
              "          'suggestCharts', [key], {});\n",
              "    }\n",
              "    (() => {\n",
              "      let quickchartButtonEl =\n",
              "        document.querySelector('#df-b31e92d9-1c98-4182-a801-558f936ae070 button');\n",
              "      quickchartButtonEl.style.display =\n",
              "        google.colab.kernel.accessAllowed ? 'block' : 'none';\n",
              "    })();\n",
              "  </script>\n",
              "</div>\n",
              "    </div>\n",
              "  </div>\n"
            ],
            "text/plain": [
              "                                                  email  label\n",
              "1139  in article eNUMBERtsNUMBERt NUMBERzd NUMBER rd...      0\n",
              "1649   dunno about the other tools but spamassassin ...      0\n",
              "1222  on wed NUMBER oct NUMBER NUMBER NUMBER NUMBER ...      0\n",
              "2731   behind every elite producer is an elite semin...      1\n",
              "2475  geege wrote a strange story i know a guy who i...      0"
            ]
          },
          "execution_count": 167,
          "metadata": {},
          "output_type": "execute_result"
        }
      ],
      "source": [
        "data.head()"
      ]
    },
    {
      "cell_type": "markdown",
      "metadata": {
        "id": "_QYs3jtOVd50"
      },
      "source": [
        "# Data Augmentation"
      ]
    },
    {
      "cell_type": "code",
      "execution_count": 134,
      "metadata": {
        "colab": {
          "base_uri": "https://localhost:8080/",
          "height": 206
        },
        "id": "LaOSYQA5VbO9",
        "outputId": "7557502e-117e-46c4-fdfd-f1282266fdb9"
      },
      "outputs": [
        {
          "data": {
            "text/html": [
              "\n",
              "  <div id=\"df-f40f2b9e-9094-4098-b766-3daa019763fd\" class=\"colab-df-container\">\n",
              "    <div>\n",
              "<style scoped>\n",
              "    .dataframe tbody tr th:only-of-type {\n",
              "        vertical-align: middle;\n",
              "    }\n",
              "\n",
              "    .dataframe tbody tr th {\n",
              "        vertical-align: top;\n",
              "    }\n",
              "\n",
              "    .dataframe thead th {\n",
              "        text-align: right;\n",
              "    }\n",
              "</style>\n",
              "<table border=\"1\" class=\"dataframe\">\n",
              "  <thead>\n",
              "    <tr style=\"text-align: right;\">\n",
              "      <th></th>\n",
              "      <th>email</th>\n",
              "      <th>label</th>\n",
              "    </tr>\n",
              "  </thead>\n",
              "  <tbody>\n",
              "    <tr>\n",
              "      <th>1139</th>\n",
              "      <td>in article eNUMBERtsNUMBERt NUMBERzd NUMBER rd...</td>\n",
              "      <td>0</td>\n",
              "    </tr>\n",
              "    <tr>\n",
              "      <th>1649</th>\n",
              "      <td>dunno about the other tools but spamassassin ...</td>\n",
              "      <td>0</td>\n",
              "    </tr>\n",
              "    <tr>\n",
              "      <th>1222</th>\n",
              "      <td>on wed NUMBER oct NUMBER NUMBER NUMBER NUMBER ...</td>\n",
              "      <td>0</td>\n",
              "    </tr>\n",
              "    <tr>\n",
              "      <th>2731</th>\n",
              "      <td>behind every elite producer is an elite semin...</td>\n",
              "      <td>1</td>\n",
              "    </tr>\n",
              "    <tr>\n",
              "      <th>2475</th>\n",
              "      <td>geege wrote a strange story i know a guy who i...</td>\n",
              "      <td>0</td>\n",
              "    </tr>\n",
              "  </tbody>\n",
              "</table>\n",
              "</div>\n",
              "    <div class=\"colab-df-buttons\">\n",
              "\n",
              "  <div class=\"colab-df-container\">\n",
              "    <button class=\"colab-df-convert\" onclick=\"convertToInteractive('df-f40f2b9e-9094-4098-b766-3daa019763fd')\"\n",
              "            title=\"Convert this dataframe to an interactive table.\"\n",
              "            style=\"display:none;\">\n",
              "\n",
              "  <svg xmlns=\"http://www.w3.org/2000/svg\" height=\"24px\" viewBox=\"0 -960 960 960\">\n",
              "    <path d=\"M120-120v-720h720v720H120Zm60-500h600v-160H180v160Zm220 220h160v-160H400v160Zm0 220h160v-160H400v160ZM180-400h160v-160H180v160Zm440 0h160v-160H620v160ZM180-180h160v-160H180v160Zm440 0h160v-160H620v160Z\"/>\n",
              "  </svg>\n",
              "    </button>\n",
              "\n",
              "  <style>\n",
              "    .colab-df-container {\n",
              "      display:flex;\n",
              "      gap: 12px;\n",
              "    }\n",
              "\n",
              "    .colab-df-convert {\n",
              "      background-color: #E8F0FE;\n",
              "      border: none;\n",
              "      border-radius: 50%;\n",
              "      cursor: pointer;\n",
              "      display: none;\n",
              "      fill: #1967D2;\n",
              "      height: 32px;\n",
              "      padding: 0 0 0 0;\n",
              "      width: 32px;\n",
              "    }\n",
              "\n",
              "    .colab-df-convert:hover {\n",
              "      background-color: #E2EBFA;\n",
              "      box-shadow: 0px 1px 2px rgba(60, 64, 67, 0.3), 0px 1px 3px 1px rgba(60, 64, 67, 0.15);\n",
              "      fill: #174EA6;\n",
              "    }\n",
              "\n",
              "    .colab-df-buttons div {\n",
              "      margin-bottom: 4px;\n",
              "    }\n",
              "\n",
              "    [theme=dark] .colab-df-convert {\n",
              "      background-color: #3B4455;\n",
              "      fill: #D2E3FC;\n",
              "    }\n",
              "\n",
              "    [theme=dark] .colab-df-convert:hover {\n",
              "      background-color: #434B5C;\n",
              "      box-shadow: 0px 1px 3px 1px rgba(0, 0, 0, 0.15);\n",
              "      filter: drop-shadow(0px 1px 2px rgba(0, 0, 0, 0.3));\n",
              "      fill: #FFFFFF;\n",
              "    }\n",
              "  </style>\n",
              "\n",
              "    <script>\n",
              "      const buttonEl =\n",
              "        document.querySelector('#df-f40f2b9e-9094-4098-b766-3daa019763fd button.colab-df-convert');\n",
              "      buttonEl.style.display =\n",
              "        google.colab.kernel.accessAllowed ? 'block' : 'none';\n",
              "\n",
              "      async function convertToInteractive(key) {\n",
              "        const element = document.querySelector('#df-f40f2b9e-9094-4098-b766-3daa019763fd');\n",
              "        const dataTable =\n",
              "          await google.colab.kernel.invokeFunction('convertToInteractive',\n",
              "                                                    [key], {});\n",
              "        if (!dataTable) return;\n",
              "\n",
              "        const docLinkHtml = 'Like what you see? Visit the ' +\n",
              "          '<a target=\"_blank\" href=https://colab.research.google.com/notebooks/data_table.ipynb>data table notebook</a>'\n",
              "          + ' to learn more about interactive tables.';\n",
              "        element.innerHTML = '';\n",
              "        dataTable['output_type'] = 'display_data';\n",
              "        await google.colab.output.renderOutput(dataTable, element);\n",
              "        const docLink = document.createElement('div');\n",
              "        docLink.innerHTML = docLinkHtml;\n",
              "        element.appendChild(docLink);\n",
              "      }\n",
              "    </script>\n",
              "  </div>\n",
              "\n",
              "\n",
              "<div id=\"df-caaf5064-60b1-4501-ad19-40897adabc7c\">\n",
              "  <button class=\"colab-df-quickchart\" onclick=\"quickchart('df-caaf5064-60b1-4501-ad19-40897adabc7c')\"\n",
              "            title=\"Suggest charts.\"\n",
              "            style=\"display:none;\">\n",
              "\n",
              "<svg xmlns=\"http://www.w3.org/2000/svg\" height=\"24px\"viewBox=\"0 0 24 24\"\n",
              "     width=\"24px\">\n",
              "    <g>\n",
              "        <path d=\"M19 3H5c-1.1 0-2 .9-2 2v14c0 1.1.9 2 2 2h14c1.1 0 2-.9 2-2V5c0-1.1-.9-2-2-2zM9 17H7v-7h2v7zm4 0h-2V7h2v10zm4 0h-2v-4h2v4z\"/>\n",
              "    </g>\n",
              "</svg>\n",
              "  </button>\n",
              "\n",
              "<style>\n",
              "  .colab-df-quickchart {\n",
              "    background-color: #E8F0FE;\n",
              "    border: none;\n",
              "    border-radius: 50%;\n",
              "    cursor: pointer;\n",
              "    display: none;\n",
              "    fill: #1967D2;\n",
              "    height: 32px;\n",
              "    padding: 0 0 0 0;\n",
              "    width: 32px;\n",
              "  }\n",
              "\n",
              "  .colab-df-quickchart:hover {\n",
              "    background-color: #E2EBFA;\n",
              "    box-shadow: 0px 1px 2px rgba(60, 64, 67, 0.3), 0px 1px 3px 1px rgba(60, 64, 67, 0.15);\n",
              "    fill: #174EA6;\n",
              "  }\n",
              "\n",
              "  [theme=dark] .colab-df-quickchart {\n",
              "    background-color: #3B4455;\n",
              "    fill: #D2E3FC;\n",
              "  }\n",
              "\n",
              "  [theme=dark] .colab-df-quickchart:hover {\n",
              "    background-color: #434B5C;\n",
              "    box-shadow: 0px 1px 3px 1px rgba(0, 0, 0, 0.15);\n",
              "    filter: drop-shadow(0px 1px 2px rgba(0, 0, 0, 0.3));\n",
              "    fill: #FFFFFF;\n",
              "  }\n",
              "</style>\n",
              "\n",
              "  <script>\n",
              "    async function quickchart(key) {\n",
              "      const charts = await google.colab.kernel.invokeFunction(\n",
              "          'suggestCharts', [key], {});\n",
              "    }\n",
              "    (() => {\n",
              "      let quickchartButtonEl =\n",
              "        document.querySelector('#df-caaf5064-60b1-4501-ad19-40897adabc7c button');\n",
              "      quickchartButtonEl.style.display =\n",
              "        google.colab.kernel.accessAllowed ? 'block' : 'none';\n",
              "    })();\n",
              "  </script>\n",
              "</div>\n",
              "    </div>\n",
              "  </div>\n"
            ],
            "text/plain": [
              "                                                  email  label\n",
              "1139  in article eNUMBERtsNUMBERt NUMBERzd NUMBER rd...      0\n",
              "1649   dunno about the other tools but spamassassin ...      0\n",
              "1222  on wed NUMBER oct NUMBER NUMBER NUMBER NUMBER ...      0\n",
              "2731   behind every elite producer is an elite semin...      1\n",
              "2475  geege wrote a strange story i know a guy who i...      0"
            ]
          },
          "execution_count": 134,
          "metadata": {},
          "output_type": "execute_result"
        }
      ],
      "source": [
        "# data augmentation\n",
        "from sklearn.utils import shuffle\n",
        "\n",
        "data = shuffle(data)\n",
        "data.head()"
      ]
    },
    {
      "cell_type": "markdown",
      "metadata": {
        "id": "6K7GnJgtVyu8"
      },
      "source": [
        "# Data Structure\n",
        "\n",
        "labels count : 2 - \"1\" or \"0\"\n"
      ]
    },
    {
      "cell_type": "code",
      "execution_count": 135,
      "metadata": {
        "colab": {
          "base_uri": "https://localhost:8080/"
        },
        "id": "UbJUha5jV7UH",
        "outputId": "b2d8bca7-1e9e-4ab9-d842-edfdeaaf54fc"
      },
      "outputs": [
        {
          "data": {
            "text/plain": [
              "0    2500\n",
              "1     500\n",
              "Name: label, dtype: int64"
            ]
          },
          "execution_count": 135,
          "metadata": {},
          "output_type": "execute_result"
        }
      ],
      "source": [
        "data['label'].value_counts()"
      ]
    },
    {
      "cell_type": "markdown",
      "metadata": {
        "id": "P1qRRVSQWMxp"
      },
      "source": [
        "Total Number Texts"
      ]
    },
    {
      "cell_type": "code",
      "execution_count": 136,
      "metadata": {
        "colab": {
          "base_uri": "https://localhost:8080/"
        },
        "id": "KQZmntQBWRDU",
        "outputId": "6a0554e4-2b49-4887-f954-a03959e5c4dd"
      },
      "outputs": [
        {
          "data": {
            "text/plain": [
              "(3000,\n",
              " 'in article eNUMBERtsNUMBERt NUMBERzd NUMBER rdsNUMBER you write patrick salsbury writes patrick one of the features i really like about exmh is the patrick ability to see which folders have unseen messages in patrick them but recently it seems to have vanished into the patrick bowels of my window manager in a place i can t get patrick to it claims to be running but doesn t appear patrick anywhere onscreen i m using enlightenment with a NUMBERxNUMBER patrick virtual desktop i ve tried dropping it to only NUMBER patrick screen no help patrick this may not help work but i ve discovered recently that alt middle mouse pops up a list of all of my windows if i leave my mouse on the background it lists alt middle mouse as display task list menu hth bill when i do that it just moves my mouse to the very edge of a window probably trying to center it on the off screen window in question i ll have to try it with another window manager and see if i can get exmh to put it back inside of sane boundaries i don t have this problem with any other windows though just the exmhunseen window pat _______________________________________________ exmh users mailing list exmh users URL URL ')"
            ]
          },
          "execution_count": 136,
          "metadata": {},
          "output_type": "execute_result"
        }
      ],
      "source": [
        "texts = []\n",
        "for index, row in data.iterrows():\n",
        "  texts.append(str(row.email))\n",
        "\n",
        "len(texts), texts[0] #sample text"
      ]
    },
    {
      "cell_type": "code",
      "execution_count": 137,
      "metadata": {
        "colab": {
          "base_uri": "https://localhost:8080/"
        },
        "id": "48DnStvC2so5",
        "outputId": "1403697f-43db-4a64-9c22-0b16a732560e"
      },
      "outputs": [
        {
          "name": "stdout",
          "output_type": "stream",
          "text": [
            "2.13.0\n"
          ]
        }
      ],
      "source": [
        "import tensorflow as tf\n",
        "print(tf.__version__)\n"
      ]
    },
    {
      "cell_type": "code",
      "execution_count": 138,
      "metadata": {
        "colab": {
          "base_uri": "https://localhost:8080/"
        },
        "id": "Hpw0TIZ0W1d4",
        "outputId": "6a3d9675-7d14-4bf2-df97-b7050dea4bfe"
      },
      "outputs": [
        {
          "data": {
            "text/plain": [
              "3000"
            ]
          },
          "execution_count": 138,
          "metadata": {},
          "output_type": "execute_result"
        }
      ],
      "source": [
        "labels = data['label']\n",
        "len(labels)"
      ]
    },
    {
      "cell_type": "markdown",
      "metadata": {
        "id": "dN3sqzZiW8Pp"
      },
      "source": [
        "## Labels and Texts are obtained"
      ]
    },
    {
      "cell_type": "code",
      "execution_count": 139,
      "metadata": {
        "id": "oAlHY1VeZTf2"
      },
      "outputs": [],
      "source": [
        "import tensorflow as tf\n",
        "\n",
        "tokenizer = tf.keras.preprocessing.text.Tokenizer(num_words=1000)\n",
        "tokenizer.fit_on_texts(texts)\n",
        "sequences = tokenizer.texts_to_sequences(texts)"
      ]
    },
    {
      "cell_type": "code",
      "execution_count": 140,
      "metadata": {
        "colab": {
          "base_uri": "https://localhost:8080/"
        },
        "id": "Tel4YHphZqTu",
        "outputId": "df8c2d60-c586-4128-e3b4-1eb0e37b6b6a"
      },
      "outputs": [
        {
          "data": {
            "text/plain": [
              "('in article eNUMBERtsNUMBERt NUMBERzd NUMBER rdsNUMBER you write patrick salsbury writes patrick one of the features i really like about exmh is the patrick ability to see which folders have unseen messages in patrick them but recently it seems to have vanished into the patrick bowels of my window manager in a place i can t get patrick to it claims to be running but doesn t appear patrick anywhere onscreen i m using enlightenment with a NUMBERxNUMBER patrick virtual desktop i ve tried dropping it to only NUMBER patrick screen no help patrick this may not help work but i ve discovered recently that alt middle mouse pops up a list of all of my windows if i leave my mouse on the background it lists alt middle mouse as display task list menu hth bill when i do that it just moves my mouse to the very edge of a window probably trying to center it on the off screen window in question i ll have to try it with another window manager and see if i can get exmh to put it back inside of sane boundaries i don t have this problem with any other windows though just the exmhunseen window pat _______________________________________________ exmh users mailing list exmh users URL URL ',\n",
              " [7,\n",
              "  690,\n",
              "  1,\n",
              "  12,\n",
              "  541,\n",
              "  444,\n",
              "  43,\n",
              "  5,\n",
              "  2,\n",
              "  8,\n",
              "  177,\n",
              "  62,\n",
              "  52,\n",
              "  124,\n",
              "  10,\n",
              "  2,\n",
              "  829,\n",
              "  3,\n",
              "  122,\n",
              "  54,\n",
              "  20,\n",
              "  520,\n",
              "  190,\n",
              "  7,\n",
              "  81,\n",
              "  31,\n",
              "  742,\n",
              "  13,\n",
              "  315,\n",
              "  3,\n",
              "  20,\n",
              "  98,\n",
              "  2,\n",
              "  5,\n",
              "  39,\n",
              "  666,\n",
              "  7,\n",
              "  6,\n",
              "  356,\n",
              "  8,\n",
              "  33,\n",
              "  25,\n",
              "  47,\n",
              "  3,\n",
              "  13,\n",
              "  3,\n",
              "  19,\n",
              "  310,\n",
              "  31,\n",
              "  221,\n",
              "  25,\n",
              "  8,\n",
              "  78,\n",
              "  129,\n",
              "  18,\n",
              "  6,\n",
              "  8,\n",
              "  114,\n",
              "  453,\n",
              "  13,\n",
              "  3,\n",
              "  61,\n",
              "  1,\n",
              "  49,\n",
              "  165,\n",
              "  15,\n",
              "  125,\n",
              "  23,\n",
              "  165,\n",
              "  115,\n",
              "  31,\n",
              "  8,\n",
              "  114,\n",
              "  742,\n",
              "  11,\n",
              "  58,\n",
              "  6,\n",
              "  38,\n",
              "  5,\n",
              "  36,\n",
              "  5,\n",
              "  39,\n",
              "  461,\n",
              "  30,\n",
              "  8,\n",
              "  39,\n",
              "  16,\n",
              "  2,\n",
              "  13,\n",
              "  492,\n",
              "  24,\n",
              "  38,\n",
              "  616,\n",
              "  72,\n",
              "  8,\n",
              "  44,\n",
              "  11,\n",
              "  13,\n",
              "  50,\n",
              "  39,\n",
              "  3,\n",
              "  2,\n",
              "  142,\n",
              "  5,\n",
              "  6,\n",
              "  666,\n",
              "  280,\n",
              "  360,\n",
              "  3,\n",
              "  555,\n",
              "  13,\n",
              "  16,\n",
              "  2,\n",
              "  209,\n",
              "  666,\n",
              "  7,\n",
              "  559,\n",
              "  8,\n",
              "  135,\n",
              "  20,\n",
              "  3,\n",
              "  240,\n",
              "  13,\n",
              "  18,\n",
              "  225,\n",
              "  666,\n",
              "  4,\n",
              "  122,\n",
              "  30,\n",
              "  8,\n",
              "  33,\n",
              "  47,\n",
              "  124,\n",
              "  3,\n",
              "  291,\n",
              "  13,\n",
              "  199,\n",
              "  5,\n",
              "  8,\n",
              "  73,\n",
              "  25,\n",
              "  20,\n",
              "  15,\n",
              "  182,\n",
              "  18,\n",
              "  66,\n",
              "  74,\n",
              "  461,\n",
              "  326,\n",
              "  50,\n",
              "  2,\n",
              "  666,\n",
              "  124,\n",
              "  107,\n",
              "  89,\n",
              "  38,\n",
              "  124,\n",
              "  107,\n",
              "  9,\n",
              "  9])"
            ]
          },
          "execution_count": 140,
          "metadata": {},
          "output_type": "execute_result"
        }
      ],
      "source": [
        "texts[0],sequences[0]\n"
      ]
    },
    {
      "cell_type": "code",
      "execution_count": 141,
      "metadata": {
        "colab": {
          "base_uri": "https://localhost:8080/"
        },
        "id": "-zTsZh6TwdRY",
        "outputId": "592d7914-0aa5-4ef3-dada-6b866e67f3db"
      },
      "outputs": [
        {
          "data": {
            "text/plain": [
              "<tf.Tensor: shape=(1, 20), dtype=int64, numpy=\n",
              "array([[615,   1,  83,  50,  44,   1,   1, 120,   5,  50,  44,  63,   1,\n",
              "        430, 120, 243,   6, 484, 615,  10]])>"
            ]
          },
          "execution_count": 141,
          "metadata": {},
          "output_type": "execute_result"
        }
      ],
      "source": [
        "import keras\n",
        "from keras import layers\n",
        "\n",
        "max_vocab_length = 1000 # max number of words to have in our vocabulary\n",
        "max_length = 20 # max length our sequences will be (e.g. how many words from a Tweet does our model see?)\n",
        "\n",
        "text_vectorizer = tf.keras.layers.TextVectorization(max_tokens=max_vocab_length,\n",
        "                                    output_mode=\"int\",\n",
        "                                    output_sequence_length=max_length)\n",
        "\n",
        "text_vectorizer.adapt(texts)\n",
        "sample_sentence = \"bill stoddard wrote no one likes commercial spam and no one like unsolicited political spam end of story bill URL except perhaps for the people in charge owen URL political spam on your cell phone by lisa m bowman mailto lisa bowman cnet com special to zdnet news august NUMBER NUMBER NUMBER NUMBER pm pt url URL URL in a decision that treats text messaging on mobile phones essentially the same as bumper stickers the federal election commission has declared that senders of text based political ads don t have to disclose who funded them in an advisory opinion issued thursday the fec also suggested such messages include either a phone number or web site link so people could easily learn who paid for the message however the additional information won t be required the opinion could encourage the adoption of text based political ads as campaign experts look for new technological ways to sway voters at the same time opponents of the plan fear it could lead to anonymous political spam target wireless a small new jersey based wireless media company had asked the fec for an opinion on the matter saying that requiring financial disclosures on short messaging service sms mailings would use up too much of the NUMBER character maximum political messages on bumper stickers and buttons are also exempt from the financial disclosure requirement target wireless petition was supported by the national republican senatorial committee the cellular telecommunications and internet association and some advertising trade groups fec spokesman bob biersack said the opinion was in keeping with the commission s policy not to meddle with new technology that has the potential to reach more voters we have tried very hard not to get in the way particularly before everyone understands how the technology is going to work he said opponents of the plan have worried the exemption might encourage spam or allow senders to blast people with mass amounts of negative political messages while remaining anonymous biersack said the fec can revisit the issue if those problems surface target wireless president craig krueger characterized the opinion as good for america it will allow people to receive more communication from those running for office he said we have free speech on our side\"\n",
        "text_vectorizer([sample_sentence])"
      ]
    },
    {
      "cell_type": "markdown",
      "metadata": {
        "id": "iluriq4H1RuU"
      },
      "source": [
        "# Training and Testing Data"
      ]
    },
    {
      "cell_type": "code",
      "execution_count": 142,
      "metadata": {
        "id": "TlrZgrHn5Igu"
      },
      "outputs": [],
      "source": [
        "# x: encoded sentences\n",
        "# y : lables (1, 0)\n",
        "\n",
        "# 90% for training\n",
        "# 10% for testing\n",
        "\n",
        "\n",
        "from sklearn.model_selection import train_test_split\n",
        "\n",
        "# Transform the texts using the text vectorizer\n",
        "encoded_texts = text_vectorizer(texts).numpy()\n",
        "\n",
        "# Split the data into training and testing sets using train_test_split\n",
        "texts_train, texts_test, labels_train, labels_test = train_test_split(encoded_texts, labels, test_size=0.2, random_state=42)"
      ]
    },
    {
      "cell_type": "code",
      "execution_count": 143,
      "metadata": {
        "colab": {
          "base_uri": "https://localhost:8080/"
        },
        "id": "R6KsqNZH2a0z",
        "outputId": "5c2df7f8-4281-43fe-9942-57411a2fc28c"
      },
      "outputs": [
        {
          "data": {
            "text/plain": [
              "(2400, 2400, 600, 600)"
            ]
          },
          "execution_count": 143,
          "metadata": {},
          "output_type": "execute_result"
        }
      ],
      "source": [
        "len(texts_train), len(labels_train), len(texts_test), len(labels_test)\n"
      ]
    },
    {
      "cell_type": "code",
      "execution_count": 144,
      "metadata": {
        "id": "iMFVH4sv6sca"
      },
      "outputs": [],
      "source": [
        "MAX_LEN = 20"
      ]
    },
    {
      "cell_type": "code",
      "execution_count": 145,
      "metadata": {
        "colab": {
          "base_uri": "https://localhost:8080/"
        },
        "id": "f494QGMy6jxX",
        "outputId": "39966b7f-9cf2-41bb-a2e1-eafcf2995752"
      },
      "outputs": [
        {
          "name": "stdout",
          "output_type": "stream",
          "text": [
            "Model: \"sequential_19\"\n",
            "_________________________________________________________________\n",
            " Layer (type)                Output Shape              Param #   \n",
            "=================================================================\n",
            " embedding_18 (Embedding)    (None, 20, 8)             80000     \n",
            "                                                                 \n",
            " simple_rnn_12 (SimpleRNN)   (None, 32)                1312      \n",
            "                                                                 \n",
            " dense_18 (Dense)            (None, 1)                 33        \n",
            "                                                                 \n",
            "=================================================================\n",
            "Total params: 81345 (317.75 KB)\n",
            "Trainable params: 81345 (317.75 KB)\n",
            "Non-trainable params: 0 (0.00 Byte)\n",
            "_________________________________________________________________\n",
            "Epoch 1/10\n",
            "60/60 [==============================] - 15s 204ms/step - loss: 0.3915 - acc: 0.8505 - val_loss: 0.3111 - val_acc: 0.8542\n",
            "Epoch 2/10\n",
            "60/60 [==============================] - 5s 84ms/step - loss: 0.2200 - acc: 0.9135 - val_loss: 0.2002 - val_acc: 0.9271\n",
            "Epoch 3/10\n",
            "60/60 [==============================] - 4s 66ms/step - loss: 0.1468 - acc: 0.9417 - val_loss: 0.1700 - val_acc: 0.9333\n",
            "Epoch 4/10\n",
            "60/60 [==============================] - 2s 35ms/step - loss: 0.0966 - acc: 0.9677 - val_loss: 0.1658 - val_acc: 0.9438\n",
            "Epoch 5/10\n",
            "60/60 [==============================] - 1s 21ms/step - loss: 0.0683 - acc: 0.9766 - val_loss: 0.1626 - val_acc: 0.9354\n",
            "Epoch 6/10\n",
            "60/60 [==============================] - 1s 22ms/step - loss: 0.0490 - acc: 0.9865 - val_loss: 0.2042 - val_acc: 0.9208\n",
            "Epoch 7/10\n",
            "60/60 [==============================] - 1s 22ms/step - loss: 0.0371 - acc: 0.9901 - val_loss: 0.2195 - val_acc: 0.9125\n",
            "Epoch 8/10\n",
            "60/60 [==============================] - 1s 20ms/step - loss: 0.0281 - acc: 0.9927 - val_loss: 0.1509 - val_acc: 0.9438\n",
            "Epoch 9/10\n",
            "60/60 [==============================] - 1s 19ms/step - loss: 0.0210 - acc: 0.9937 - val_loss: 0.2158 - val_acc: 0.9167\n",
            "Epoch 10/10\n",
            "60/60 [==============================] - 1s 20ms/step - loss: 0.0149 - acc: 0.9958 - val_loss: 0.2093 - val_acc: 0.9167\n"
          ]
        }
      ],
      "source": [
        "from keras.models import Sequential\n",
        "from keras.layers import Flatten, Dense\n",
        "from keras.layers import Embedding,SimpleRNN\n",
        "\n",
        "\n",
        "model = Sequential()\n",
        "model.add(Embedding(10000, 8, input_length=MAX_LEN))\n",
        "model.add(SimpleRNN(32))\n",
        "model.add(Dense(1, activation='sigmoid'))\n",
        "model.compile(optimizer='rmsprop', loss='binary_crossentropy', metrics=['acc'])\n",
        "model.summary()\n",
        "\n",
        "history = model.fit(texts_train, labels_train,\n",
        "                    epochs=10,\n",
        "                    batch_size=32,\n",
        "                    validation_split=0.2)"
      ]
    },
    {
      "cell_type": "code",
      "execution_count": 146,
      "metadata": {
        "colab": {
          "base_uri": "https://localhost:8080/"
        },
        "id": "u69hlfb7B3fP",
        "outputId": "eedb04f8-4a04-4582-8407-ff5b06ac8e9a"
      },
      "outputs": [
        {
          "name": "stderr",
          "output_type": "stream",
          "text": [
            "/usr/local/lib/python3.10/dist-packages/keras/src/engine/training.py:3000: UserWarning: You are saving your model as an HDF5 file via `model.save()`. This file format is considered legacy. We recommend using instead the native Keras format, e.g. `model.save('my_model.keras')`.\n",
            "  saving_api.save_model(\n"
          ]
        }
      ],
      "source": [
        "model.save(\"model.h5\")"
      ]
    },
    {
      "cell_type": "code",
      "execution_count": 147,
      "metadata": {
        "id": "vV8zsk3A7Wbb"
      },
      "outputs": [],
      "source": [
        "import matplotlib.pyplot as plt\n",
        "import matplotlib.image as mpimg"
      ]
    },
    {
      "cell_type": "code",
      "execution_count": 148,
      "metadata": {
        "colab": {
          "base_uri": "https://localhost:8080/"
        },
        "id": "NW72p8pm71Km",
        "outputId": "11432b1a-3df5-40c3-8794-6614aed5f069"
      },
      "outputs": [
        {
          "name": "stdout",
          "output_type": "stream",
          "text": [
            "dict_keys(['loss', 'acc', 'val_loss', 'val_acc'])\n"
          ]
        }
      ],
      "source": [
        "print(history.history.keys())"
      ]
    },
    {
      "cell_type": "markdown",
      "metadata": {
        "id": "oRlBxVnE7kr6"
      },
      "source": [
        "# Represent Loss"
      ]
    },
    {
      "cell_type": "code",
      "execution_count": 149,
      "metadata": {
        "id": "KdwWqEnB7rEg"
      },
      "outputs": [],
      "source": [
        "def graph_history(history):\n",
        "  #['loss', 'acc', 'val_loss', 'val_acc']\n",
        "  plt.plot(history.history['loss'], label = \"loss\")\n",
        "  plt.plot(history.history['val_loss'], label = \"val_loss\")\n",
        "  plt.legend()\n",
        "\n",
        "  plt.figure()\n",
        "\n",
        "  plt.plot(history.history['acc'], label = \"accuracy\")\n",
        "  plt.plot(history.history['val_acc'], label = \"val_accuracy\")\n",
        "  plt.legend()\n"
      ]
    },
    {
      "cell_type": "code",
      "execution_count": 150,
      "metadata": {
        "colab": {
          "base_uri": "https://localhost:8080/",
          "height": 843
        },
        "id": "FfV3GYKR8Gdt",
        "outputId": "14424f45-6f22-473a-d256-57db88f099b9"
      },
      "outputs": [
        {
          "data": {
            "image/png": "[encoded data removed]",
            "text/plain": [
              "<Figure size 640x480 with 1 Axes>"
            ]
          },
          "metadata": {},
          "output_type": "display_data"
        },
        {
          "data": {
            "image/png": "[encoded data removed]",
            "text/plain": [
              "<Figure size 640x480 with 1 Axes>"
            ]
          },
          "metadata": {},
          "output_type": "display_data"
        }
      ],
      "source": [
        "graph_history(history)"
      ]
    },
    {
      "cell_type": "code",
      "execution_count": 151,
      "metadata": {
        "colab": {
          "base_uri": "https://localhost:8080/"
        },
        "id": "lTwsDPPWEn2t",
        "outputId": "e543751a-8f6f-42a5-a68e-a6a83bb7c3a4"
      },
      "outputs": [
        {
          "name": "stdout",
          "output_type": "stream",
          "text": [
            "19/19 [==============================] - 0s 5ms/step - loss: 0.1804 - acc: 0.9383\n",
            "test loss:0.18043933808803558\n",
            "test accuracy:0.9383333325386047\n"
          ]
        }
      ],
      "source": [
        "result=model.evaluate(texts_test, labels_test)\n",
        "print(\"test loss:{}\\ntest accuracy:{}\".format(result[0],result[1]))"
      ]
    },
    {
      "cell_type": "code",
      "execution_count": 152,
      "metadata": {
        "id": "gOVKDfJOJ8QN"
      },
      "outputs": [],
      "source": [
        "def preprocess_email_old(email_text):\n",
        "    sequences = tokenizer.texts_to_sequences([email_text])\n",
        "    padded_sequence = tf.keras.preprocessing.sequence.pad_sequences(sequences, maxlen=MAX_LEN, padding='post', truncating='post')\n",
        "    print(padded_sequence[0])\n",
        "    return padded_sequence[0]\n"
      ]
    },
    {
      "cell_type": "code",
      "execution_count": 153,
      "metadata": {
        "id": "AOuICxuFJ_S9"
      },
      "outputs": [],
      "source": [
        "def is_email_scam_old(email_text):\n",
        "\n",
        "    numerical_sequence = preprocess_email(email_text)\n",
        "    padded_sequence = tf.keras.preprocessing.sequence.pad_sequences([numerical_sequence], maxlen=MAX_LEN)\n",
        "    prediction = model.predict(padded_sequence)\n",
        "    print(prediction)\n",
        "    is_scam = prediction[0][0] >= 0.5\n",
        "    return is_scam"
      ]
    },
    {
      "cell_type": "code",
      "execution_count": 154,
      "metadata": {
        "id": "KzKJfMuuKRlX"
      },
      "outputs": [],
      "source": [
        "email = \"martin adamson wrote isn t it just basically a mixture of beaten egg and bacon or pancetta really you mix in the raw egg to the cooked pasta and the heat of the pasta cooks the egg that s my understanding you re probably right mine s just the same but with the cream added to the eggs i guess i should try it without actually looking on the internet for a recipe i found this one from possibly one of the scariest people i ve ever seen and he s a us congressman URL that s one of the worst non smiles ever stew ps apologies if any of the list s maine residents voted for this man you won t do it again once you ve seen this pic stewart smith scottish microelectronics centre university of edinburgh URL yahoo groups sponsor NUMBER dvds free s p join now URL to unsubscribe from this group send an email to forteana unsubscribe URL your use of yahoo groups is subject to URL \""
      ]
    },
    {
      "cell_type": "code",
      "execution_count": 155,
      "metadata": {
        "colab": {
          "base_uri": "https://localhost:8080/"
        },
        "id": "760YU0yfKKKk",
        "outputId": "f747b56e-fe02-4231-d809-fed52a8af961"
      },
      "outputs": [
        {
          "name": "stdout",
          "output_type": "stream",
          "text": [
            "[ 82 394  25  13  50   6   5   4  26 177  12   7   2   3   2   4   2   5\n",
            "   2   2]\n",
            "1/1 [==============================] - 0s 137ms/step\n",
            "[[0.0070643]]\n"
          ]
        }
      ],
      "source": [
        "result = is_email_scam_old(email)\n",
        "\n"
      ]
    },
    {
      "cell_type": "code",
      "execution_count": 156,
      "metadata": {
        "id": "goB8s51KL2U4"
      },
      "outputs": [],
      "source": [
        "# label=list(data['label'])\n",
        "from keras.preprocessing.text import Tokenizer\n",
        "tokenizer = Tokenizer(num_words=1000)\n",
        "tokenizer.fit_on_texts(texts)\n",
        "sequences = tokenizer.texts_to_sequences(texts)\n",
        "x_train=sequences[:2000]\n",
        "y_train=labels[:2000]\n",
        "x_test=sequences[2000:]\n",
        "y_test=labels[2000:]\n",
        "\n"
      ]
    },
    {
      "cell_type": "code",
      "execution_count": 157,
      "metadata": {
        "id": "whKl_LbFMBd5"
      },
      "outputs": [],
      "source": [
        "MAX_LEN = 20\n",
        "from keras import preprocessing\n",
        "\n",
        "x_train = preprocessing.sequence.pad_sequences(x_train, maxlen=MAX_LEN)\n",
        "x_test = preprocessing.sequence.pad_sequences(x_test, maxlen=MAX_LEN)\n"
      ]
    },
    {
      "cell_type": "code",
      "execution_count": 158,
      "metadata": {
        "id": "QKKqdg_ZMHEM"
      },
      "outputs": [],
      "source": [
        "from keras.models import Sequential\n",
        "from keras.layers import Flatten, Dense\n",
        "from keras.layers import Embedding,LSTM\n",
        "\n",
        "\n",
        "model_1 = Sequential()\n",
        "\n",
        "model_1.add(Embedding(2000, 8, input_length=MAX_LEN))\n",
        "\n",
        "model_1.add(LSTM(32))\n",
        "model_1.add(Dense(1, activation='sigmoid'))\n",
        "model_1.compile(optimizer='rmsprop', loss='binary_crossentropy', metrics=['acc'])\n"
      ]
    },
    {
      "cell_type": "code",
      "execution_count": 159,
      "metadata": {
        "colab": {
          "base_uri": "https://localhost:8080/"
        },
        "id": "M9TCczMkO_7Z",
        "outputId": "b9f562e8-b022-4445-e1cf-60ea12384030"
      },
      "outputs": [
        {
          "name": "stdout",
          "output_type": "stream",
          "text": [
            "Model: \"sequential_20\"\n",
            "_________________________________________________________________\n",
            " Layer (type)                Output Shape              Param #   \n",
            "=================================================================\n",
            " embedding_19 (Embedding)    (None, 20, 8)             16000     \n",
            "                                                                 \n",
            " lstm_6 (LSTM)               (None, 32)                5248      \n",
            "                                                                 \n",
            " dense_19 (Dense)            (None, 1)                 33        \n",
            "                                                                 \n",
            "=================================================================\n",
            "Total params: 21281 (83.13 KB)\n",
            "Trainable params: 21281 (83.13 KB)\n",
            "Non-trainable params: 0 (0.00 Byte)\n",
            "_________________________________________________________________\n"
          ]
        }
      ],
      "source": [
        "model_1.summary()\n"
      ]
    },
    {
      "cell_type": "code",
      "execution_count": 160,
      "metadata": {
        "colab": {
          "base_uri": "https://localhost:8080/"
        },
        "id": "asyPwYkxPBUO",
        "outputId": "d691416d-984e-4454-b1eb-899fb01eef06"
      },
      "outputs": [
        {
          "name": "stdout",
          "output_type": "stream",
          "text": [
            "Epoch 1/10\n",
            "50/50 [==============================] - 8s 99ms/step - loss: 0.5011 - acc: 0.8250 - val_loss: 0.4166 - val_acc: 0.8250\n",
            "Epoch 2/10\n",
            "50/50 [==============================] - 2s 31ms/step - loss: 0.3028 - acc: 0.8637 - val_loss: 0.2699 - val_acc: 0.8875\n",
            "Epoch 3/10\n",
            "50/50 [==============================] - 1s 24ms/step - loss: 0.1644 - acc: 0.9431 - val_loss: 0.2481 - val_acc: 0.9225\n",
            "Epoch 4/10\n",
            "50/50 [==============================] - 1s 20ms/step - loss: 0.1158 - acc: 0.9650 - val_loss: 0.1603 - val_acc: 0.9375\n",
            "Epoch 5/10\n",
            "50/50 [==============================] - 1s 13ms/step - loss: 0.0855 - acc: 0.9737 - val_loss: 0.1541 - val_acc: 0.9475\n",
            "Epoch 6/10\n",
            "50/50 [==============================] - 0s 6ms/step - loss: 0.0689 - acc: 0.9794 - val_loss: 0.1330 - val_acc: 0.9450\n",
            "Epoch 7/10\n",
            "50/50 [==============================] - 0s 6ms/step - loss: 0.0540 - acc: 0.9837 - val_loss: 0.1089 - val_acc: 0.9600\n",
            "Epoch 8/10\n",
            "50/50 [==============================] - 0s 10ms/step - loss: 0.0480 - acc: 0.9862 - val_loss: 0.1117 - val_acc: 0.9525\n",
            "Epoch 9/10\n",
            "50/50 [==============================] - 0s 9ms/step - loss: 0.0378 - acc: 0.9875 - val_loss: 0.1288 - val_acc: 0.9475\n",
            "Epoch 10/10\n",
            "50/50 [==============================] - 0s 10ms/step - loss: 0.0335 - acc: 0.9875 - val_loss: 0.1107 - val_acc: 0.9650\n"
          ]
        }
      ],
      "source": [
        "history_1 = model_1.fit(x_train, y_train,\n",
        "                    epochs=10,\n",
        "                    batch_size=32,\n",
        "                    validation_split=0.2)"
      ]
    },
    {
      "cell_type": "code",
      "execution_count": 161,
      "metadata": {
        "colab": {
          "base_uri": "https://localhost:8080/",
          "height": 843
        },
        "id": "mJWjz3VTMQNI",
        "outputId": "a7f1024b-f6a0-4bfb-c524-455c0d0eb221"
      },
      "outputs": [
        {
          "data": {
            "image/png": "[encoded data removed]",
            "text/plain": [
              "<Figure size 640x480 with 1 Axes>"
            ]
          },
          "metadata": {},
          "output_type": "display_data"
        },
        {
          "data": {
            "image/png": "[encoded data removed]",
            "text/plain": [
              "<Figure size 640x480 with 1 Axes>"
            ]
          },
          "metadata": {},
          "output_type": "display_data"
        }
      ],
      "source": [
        "graph_history(history_1)"
      ]
    },
    {
      "cell_type": "code",
      "execution_count": 162,
      "metadata": {
        "id": "ngqYaaniMsds"
      },
      "outputs": [],
      "source": [
        "def preprocess_email(email_text):\n",
        "    sequences = tokenizer.texts_to_sequences([email_text])\n",
        "    padded_sequence = tf.keras.preprocessing.sequence.pad_sequences(sequences, maxlen=MAX_LEN, padding='post', truncating='post')\n",
        "    print(padded_sequence[0])\n",
        "    return padded_sequence[0]\n"
      ]
    },
    {
      "cell_type": "code",
      "execution_count": 163,
      "metadata": {
        "id": "_F1hEX00MlMm"
      },
      "outputs": [],
      "source": [
        "def is_email_scam(email_text):\n",
        "    numerical_sequence = preprocess_email(email_text)\n",
        "\n",
        "    padded_sequence = tf.keras.preprocessing.sequence.pad_sequences([numerical_sequence], maxlen=MAX_LEN)\n",
        "    prediction = model_1.predict(padded_sequence)\n",
        "\n",
        "    is_scam = prediction[0][0] >= 0.5\n",
        "    if is_scam:\n",
        "      return \"is scam: \", prediction\n",
        "    else:\n",
        "      return \"is not scam: \", prediction"
      ]
    },
    {
      "cell_type": "code",
      "execution_count": 164,
      "metadata": {
        "colab": {
          "base_uri": "https://localhost:8080/"
        },
        "id": "f8zJqwGIMyCt",
        "outputId": "373d83f0-0623-4cf3-b049-1d8a6b541c18"
      },
      "outputs": [
        {
          "name": "stdout",
          "output_type": "stream",
          "text": [
            "[347  61  14  63 817  18 406 986  67  67 980  16 108 347  10 252  16   6\n",
            " 401 100]\n",
            "1/1 [==============================] - 0s 342ms/step\n"
          ]
        },
        {
          "data": {
            "text/plain": [
              "('is scam: ', array([[0.9520835]], dtype=float32))"
            ]
          },
          "execution_count": 164,
          "metadata": {},
          "output_type": "execute_result"
        }
      ],
      "source": [
        "email_scam = \"Offer only valid for new customers with qualifying auto-renewing subscription purchase. '18 Free Meals + 3 Surprise Gifts + Free Shipping on First Box' offer is based on a total discount applied over a 9-week period for a 2-person, 4-recipe subscription. Shipping fee applies on all deliveries after the first box. Discount may vary for other meal plans and sizes. '3 surprise gift' offer available after the purchase of your 4th, 6th and 8th boxes (total approx. value of 3 surprise gifts while supplies last). Not valid on premiums, meal upgrades, add-ons, taxes or shipping fees. May not be combined with gift cards or any other promotion. No cash value. Void outside the U.S. and where prohibited. Offer cannot be sold or otherwise bartered. HelloFresh has the right to end or modify any offer at any time. Additional restrictions may apply. See terms and conditions for more details. You are receiving this email from a third party marketing partner to HelloFresh, not from HelloFresh directly. If you'd prefer not to receive advertisements from Hellofresh Affiliate Partners, you can unsubscribe here or write to: Hellofresh Affiliate Department - 28 Liberty Street, New York, NY\"\n",
        "\n",
        "is_email_scam(email_scam)"
      ]
    },
    {
      "cell_type": "code",
      "execution_count": 165,
      "metadata": {
        "colab": {
          "base_uri": "https://localhost:8080/"
        },
        "id": "K5aM6nU9Pt65",
        "outputId": "1e06c301-8428-4a1f-caa9-99971770b5c7"
      },
      "outputs": [
        {
          "name": "stdout",
          "output_type": "stream",
          "text": [
            "[ 51   2  63 544   0   0   0   0   0   0   0   0   0   0   0   0   0   0\n",
            "   0   0]\n",
            "1/1 [==============================] - 0s 19ms/step\n"
          ]
        },
        {
          "data": {
            "text/plain": [
              "('is scam: ', array([[0.67380285]], dtype=float32))"
            ]
          },
          "execution_count": 165,
          "metadata": {},
          "output_type": "execute_result"
        }
      ],
      "source": [
        "email_notScam = \"I'm reaching out regarding the new job posting\"\n",
        "is_email_scam(email_notScam)"
      ]
    },
    {
      "cell_type": "code",
      "execution_count": 166,
      "metadata": {
        "id": "LNoNnR7GP6nY"
      },
      "outputs": [],
      "source": [
        "# saving model and later convert to tfjs\n",
        "model_1.save(\"scam_detector_model.h5\")"
      ]
    }
  ],
  "metadata": {
    "accelerator": "GPU",
    "colab": {
      "gpuType": "T4",
      "provenance": []
    },
    "kernelspec": {
      "display_name": "Python 3",
      "name": "python3"
    },
    "language_info": {
      "name": "python"
    }
  },
  "nbformat": 4,
  "nbformat_minor": 0
}
